{
 "cells": [
  {
   "cell_type": "code",
   "execution_count": 1,
   "id": "95c7d38a",
   "metadata": {},
   "outputs": [
    {
     "name": "stderr",
     "output_type": "stream",
     "text": [
      "2025-05-21 21:46:04,064 - INFO - Среднеквадратичная ошибка (MSE): 252117308792571.66\n",
      "2025-05-21 21:46:04,066 - INFO - Корень из MSE (RMSE): 15878202.32\n",
      "2025-05-21 21:46:04,066 - INFO - Коэффициент детерминации R²: 0.646965\n",
      "2025-05-21 21:46:04,067 - INFO - Средняя абсолютная ошибка (MAE): 12051925.02 рублей\n",
      "2025-05-21 21:46:04,067 - INFO - Коэффициент при площади: 825397.44\n",
      "2025-05-21 21:46:04,067 - INFO - Свободный член (intercept): -15501852.48\n"
     ]
    }
   ],
   "source": [
    "import pandas as pd\n",
    "import numpy as np\n",
    "import os\n",
    "import joblib\n",
    "import logging\n",
    "from sklearn.model_selection import train_test_split\n",
    "from sklearn.linear_model import LinearRegression\n",
    "from sklearn.metrics import mean_squared_error, r2_score\n",
    "from sklearn.preprocessing import StandardScaler\n",
    "\n",
    "\n",
    "os.makedirs('logs', exist_ok=True)\n",
    "logging.basicConfig(\n",
    "    level=logging.INFO,\n",
    "    format='%(asctime)s - %(levelname)s - %(message)s',\n",
    "    handlers=[\n",
    "        logging.FileHandler('' \\\n",
    "        'logs/train_metrics.log', encoding='utf-8'),\n",
    "        logging.StreamHandler()\n",
    "    ]\n",
    ")\n",
    "\n",
    "data = pd.read_csv(\"/Users/lubovmoskalenko/Documents/python/-pabd25/data/processed/merged_cleaned.csv\")\n",
    "data = data.dropna(subset=['total_meters', 'price'])\n",
    "\n",
    "X = data[['total_meters']]\n",
    "y = data['price']\n",
    "X_train, X_test, y_train, y_test = train_test_split(\n",
    "    X, y, test_size=0.2, random_state=42\n",
    ")\n",
    "\n",
    "model = LinearRegression()\n",
    "model.fit(X_train, y_train)\n",
    "\n",
    "y_pred = model.predict(X_test)\n",
    "\n",
    "mse = mean_squared_error(y_test, y_pred)\n",
    "rmse = np.sqrt(mse)\n",
    "r2 = r2_score(y_test, y_pred)\n",
    "mae = np.mean(np.abs(y_test - y_pred))\n",
    "\n",
    "logging.info(f\"Среднеквадратичная ошибка (MSE): {mse:.2f}\")\n",
    "logging.info(f\"Корень из MSE (RMSE): {rmse:.2f}\")\n",
    "logging.info(f\"Коэффициент детерминации R²: {r2:.6f}\")\n",
    "logging.info(f\"Средняя абсолютная ошибка (MAE): {mae:.2f} рублей\")\n",
    "logging.info(f\"Коэффициент при площади: {model.coef_[0]:.2f}\")\n",
    "logging.info(f\"Свободный член (intercept): {model.intercept_:.2f}\")\n",
    "\n",
    "os.makedirs('models', exist_ok=True)\n",
    "model_path = 'models/linear_regression_model.pkl'\n",
    "\n",
    "joblib.dump(model, model_path)\n",
    "\n",
    "loaded_model = joblib.load(model_path)"
   ]
  },
  {
   "cell_type": "code",
   "execution_count": 2,
   "id": "fc6cfb9e",
   "metadata": {},
   "outputs": [
    {
     "name": "stdout",
     "output_type": "stream",
     "text": [
      "Предсказанная цена квартиры площадью 42.0 м²: 19,164,840 ₽\n"
     ]
    }
   ],
   "source": [
    "import pandas as pd\n",
    "import joblib\n",
    "\n",
    "\n",
    "model = joblib.load('models/linear_regression_model.pkl')\n",
    "\n",
    "try:\n",
    "    user_input = float(input(\"Введите площадь квартиры в м²: \"))\n",
    "    if user_input <= 0:\n",
    "        raise ValueError(\"Площадь должна быть положительным числом.\")\n",
    "    input_df = pd.DataFrame({'total_meters': [user_input]})\n",
    "    predicted_price = model.predict(input_df)[0]\n",
    "    print(f\"Предсказанная цена квартиры площадью {user_input} м²: {predicted_price:,.0f} ₽\")\n",
    "\n",
    "except ValueError as e:\n",
    "    print(f\"Ошибка ввода: {e}\")"
   ]
  }
 ],
 "metadata": {
  "kernelspec": {
   "display_name": "env_git",
   "language": "python",
   "name": "python3"
  },
  "language_info": {
   "codemirror_mode": {
    "name": "ipython",
    "version": 3
   },
   "file_extension": ".py",
   "mimetype": "text/x-python",
   "name": "python",
   "nbconvert_exporter": "python",
   "pygments_lexer": "ipython3",
   "version": "3.9.0"
  }
 },
 "nbformat": 4,
 "nbformat_minor": 5
}
